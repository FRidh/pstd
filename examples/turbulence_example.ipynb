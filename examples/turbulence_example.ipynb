{
 "cells": [
  {
   "cell_type": "markdown",
   "metadata": {},
   "source": [
    "# Turbulence example\n",
    "\n",
    "In this notebook we show how to perform a simulation using a soundspeed field based on a Gaussian turbulence spectrum."
   ]
  },
  {
   "cell_type": "code",
   "execution_count": null,
   "metadata": {},
   "outputs": [],
   "source": [
    "import numpy as np\n",
    "from pstd import PSTD, PML, Medium, Position2D, PointSource\n",
    "from pstd import PSTD\n",
    "from acoustics import Signal\n",
    "from turbulence import Field2D, Gaussian2DTemp\n",
    "#import seaborn as sns\n",
    "%matplotlib inline"
   ]
  },
  {
   "cell_type": "markdown",
   "metadata": {},
   "source": [
    "## Configuration\n",
    "\n",
    "The following are the parameters for our simulation"
   ]
  },
  {
   "cell_type": "code",
   "execution_count": null,
   "metadata": {},
   "outputs": [],
   "source": [
    "x = 50.0\n",
    "y = 40.0\n",
    "z = 0.0\n",
    "\n",
    "c_0 = 343.2\n",
    "maximum_frequency_target = 200.0"
   ]
  },
  {
   "cell_type": "markdown",
   "metadata": {},
   "source": [
    "## Turbulent field"
   ]
  },
  {
   "cell_type": "code",
   "execution_count": null,
   "metadata": {},
   "outputs": [],
   "source": [
    "f_max = 500.0\n",
    "\n",
    "f_margin = 1.0\n",
    "\n",
    "# Amount of modes\n",
    "max_mode_order = 100\n",
    "# Maximum wavenumber\n",
    "k_max = 10.0\n",
    "\n",
    "wavenumber_resolution = k_max / max_mode_order\n",
    "\n",
    "# We don't need it for the calculations but we do need it to create an instance.\n",
    "spatial_resolution = c_0 / (2.0 * f_max * f_margin)\n",
    "\n",
    "spectrum = Gaussian2DTemp(\n",
    "    max_mode_order=max_mode_order,\n",
    "    wavenumber_resolution=wavenumber_resolution,\n",
    "    mu_0=3e-2,\n",
    "    a=1.1,\n",
    "#     a=0.001,\n",
    ")\n",
    "\n",
    "field = Field2D(\n",
    "    x=x,\n",
    "    y=y,\n",
    "    z=y,\n",
    "    spatial_resolution=spatial_resolution,\n",
    "    spectrum=spectrum,\n",
    ")\n",
    "\n",
    "mu = field.randomize().generate().mu\n",
    "\n",
    "print(\"Mu shape: {}\".format(mu.shape))\n",
    "c = ( mu + 1.0 ) * c_0\n",
    "\n",
    "field.plot()"
   ]
  },
  {
   "cell_type": "markdown",
   "metadata": {},
   "source": [
    "## Create model\n",
    "\n",
    "We now create a model. Waves propagate in a medium which we define first."
   ]
  },
  {
   "cell_type": "code",
   "execution_count": null,
   "metadata": {},
   "outputs": [],
   "source": [
    "medium = Medium(soundspeed=c, density=1.296)"
   ]
  },
  {
   "cell_type": "markdown",
   "metadata": {},
   "source": [
    "The model is only finite and to prevent aliasing we need a Perfectly Matched Layer."
   ]
  },
  {
   "cell_type": "code",
   "execution_count": null,
   "metadata": {},
   "outputs": [],
   "source": [
    "pml = PML((1000.0, 1000.0), depth=10.0)"
   ]
  },
  {
   "cell_type": "markdown",
   "metadata": {},
   "source": [
    "Now we create the actual model."
   ]
  },
  {
   "cell_type": "code",
   "execution_count": null,
   "metadata": {},
   "outputs": [],
   "source": [
    "model = PSTD(\n",
    "    maximum_frequency=maximum_frequency_target,\n",
    "    pml=pml,\n",
    "    medium=medium,\n",
    "    cfl=PSTD.maximum_cfl(medium.soundspeed)/2.,\n",
    "    size=[x, y],\n",
    "    spacing = spatial_resolution,\n",
    ")"
   ]
  },
  {
   "cell_type": "markdown",
   "metadata": {},
   "source": [
    "In this example our source excites a pulse. "
   ]
  },
  {
   "cell_type": "code",
   "execution_count": null,
   "metadata": {},
   "outputs": [],
   "source": [
    "source_position = Position2D(x*2.0/5.0, y/2.0)\n",
    "\n",
    "source = model.add_object('source', 'PointSource', position=source_position, \n",
    "                         excitation='pulse', quantity='pressure', amplitude=0.1)"
   ]
  },
  {
   "cell_type": "markdown",
   "metadata": {},
   "source": [
    "We also add a receiver on the other side of the domain"
   ]
  },
  {
   "cell_type": "code",
   "execution_count": null,
   "metadata": {},
   "outputs": [],
   "source": [
    "receiver_position = Position2D(x*3.0/5.0, y/2.0)\n",
    "\n",
    "receiver = model.add_object('receiver', 'Receiver', position=receiver_position, quantity='pressure')"
   ]
  },
  {
   "cell_type": "markdown",
   "metadata": {},
   "source": [
    "## Check model\n",
    "\n",
    "To get a quick overview of all parameters, for example to check them, we can print one"
   ]
  },
  {
   "cell_type": "code",
   "execution_count": null,
   "metadata": {},
   "outputs": [],
   "source": [
    "print(model.overview())"
   ]
  },
  {
   "cell_type": "markdown",
   "metadata": {},
   "source": [
    "To check whether the geometry is as we want it to be, we can simply draw it."
   ]
  },
  {
   "cell_type": "code",
   "execution_count": null,
   "metadata": {},
   "outputs": [],
   "source": [
    "_ = model.plot_scene()"
   ]
  },
  {
   "cell_type": "markdown",
   "metadata": {},
   "source": [
    "## Running the simulation\n",
    "\n",
    "Now that we've defined and checked our model we can run it."
   ]
  },
  {
   "cell_type": "markdown",
   "metadata": {},
   "source": [
    "With `model.run()` you can specify the amount of time steps or amount of seconds it should run."
   ]
  },
  {
   "cell_type": "code",
   "execution_count": null,
   "metadata": {},
   "outputs": [],
   "source": [
    "model.run(seconds=0.01)"
   ]
  },
  {
   "cell_type": "markdown",
   "metadata": {},
   "source": [
    "Let's see how the sound pressure field looks like now."
   ]
  },
  {
   "cell_type": "code",
   "execution_count": null,
   "metadata": {},
   "outputs": [],
   "source": [
    "_ = model.plot_field()"
   ]
  },
  {
   "cell_type": "markdown",
   "metadata": {},
   "source": [
    "It might happen that you realize that you actually need to calculate a bit further. This can easily be done, since the state is remembered. Simply use `model.run()` again and the simulation continues."
   ]
  },
  {
   "cell_type": "code",
   "execution_count": null,
   "metadata": {},
   "outputs": [],
   "source": [
    "model.run(seconds=0.03)"
   ]
  },
  {
   "cell_type": "markdown",
   "metadata": {},
   "source": [
    "With more steps we now see the effect of the turbulence."
   ]
  },
  {
   "cell_type": "code",
   "execution_count": null,
   "metadata": {},
   "outputs": [],
   "source": [
    "_ = model.plot_field()"
   ]
  },
  {
   "cell_type": "markdown",
   "metadata": {},
   "source": [
    "We can also check the signal recorded by the receiver, which in this case is the impulse response. The method `receiver.recording()` returns an instance of `acoustics.Signal`."
   ]
  },
  {
   "cell_type": "code",
   "execution_count": null,
   "metadata": {},
   "outputs": [],
   "source": [
    "_ = receiver.recording().plot()"
   ]
  },
  {
   "cell_type": "markdown",
   "metadata": {},
   "source": [
    "If however, you want to restart the simulation you can do so with `model.restart()`."
   ]
  },
  {
   "cell_type": "code",
   "execution_count": null,
   "metadata": {},
   "outputs": [],
   "source": [
    "model.restart()"
   ]
  }
 ],
 "metadata": {
  "kernelspec": {
   "display_name": "Python 3 (ipykernel)",
   "language": "python",
   "name": "python3"
  },
  "language_info": {
   "codemirror_mode": {
    "name": "ipython",
    "version": 3
   },
   "file_extension": ".py",
   "mimetype": "text/x-python",
   "name": "python",
   "nbconvert_exporter": "python",
   "pygments_lexer": "ipython3",
   "version": "3.9.9"
  }
 },
 "nbformat": 4,
 "nbformat_minor": 1
}
